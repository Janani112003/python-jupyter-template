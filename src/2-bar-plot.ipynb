{
 "cells": [
  {
   "cell_type": "markdown",
   "metadata": {},
   "source": [
    "### Exercise 2: Bar Plot with Colors"
   ]
  },
  {
   "cell_type": "code",
   "execution_count": null,
   "metadata": {},
   "outputs": [],
   "source": [
    "import matplotlib.pyplot as plt\n",
    "import numpy as np\n",
    "\n",
    "# Function to validate the input data\n",
    "def validate_data(categories, values, colors):\n",
    "    if not categories:  # Check if categories list is empty\n",
    "        raise ValueError(\"The categories list is empty.\")\n",
    "    if not values:  # Check if values list is empty\n",
    "        raise ValueError(\"The values list is empty.\")\n",
    "    if len(categories) != len(values):  # Ensure categories and values have the same length\n",
    "        raise ValueError(\"The length of categories and values must be the same.\")\n",
    "    if len(categories) != len(colors):  # Ensure categories and colors have the same length\n",
    "        raise ValueError(\"The length of categories and colors must be the same.\")\n",
    "    return True\n",
    "\n",
    "# Data\n",
    "categories = ['Category A', 'Category B', 'Category C', 'Category D']\n",
    "values = [5, 7, 3, 9]\n",
    "colors = ['red', 'blue', 'purple', 'orange']\n",
    "\n",
    "try:\n",
    "    # Validate the input data\n",
    "    validate_data(categories, values, colors)\n",
    "\n",
    "    # Create a bar plot\n",
    "    plt.bar(categories, values, color=colors)\n",
    "\n",
    "    # Labeling the axes and the plot\n",
    "    plt.xlabel('Categories')\n",
    "    plt.ylabel('Values')\n",
    "    plt.title('Colourful Bar Plot')\n",
    "\n",
    "    # Show the plot\n",
    "    plt.show()\n",
    "\n",
    "except ValueError as e:\n",
    "    print(f\"Error: {e}\")"
   ]
  }
 ],
 "metadata": {
  "language_info": {
   "name": "python"
  }
 },
 "nbformat": 4,
 "nbformat_minor": 2
}
